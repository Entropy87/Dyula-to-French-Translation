{
  "nbformat": 4,
  "nbformat_minor": 0,
  "metadata": {
    "colab": {
      "provenance": [],
      "gpuType": "T4"
    },
    "kernelspec": {
      "name": "python3",
      "display_name": "Python 3"
    },
    "language_info": {
      "name": "python"
    },
    "accelerator": "GPU",
    "widgets": {
      "application/vnd.jupyter.widget-state+json": {
        "459d632bde7b4ca5850d8860bc3c9fc4": {
          "model_module": "@jupyter-widgets/controls",
          "model_name": "HBoxModel",
          "model_module_version": "1.5.0",
          "state": {
            "_dom_classes": [],
            "_model_module": "@jupyter-widgets/controls",
            "_model_module_version": "1.5.0",
            "_model_name": "HBoxModel",
            "_view_count": null,
            "_view_module": "@jupyter-widgets/controls",
            "_view_module_version": "1.5.0",
            "_view_name": "HBoxView",
            "box_style": "",
            "children": [
              "IPY_MODEL_c1696a12ad2c4ed0a64607ea3e2fe9a4",
              "IPY_MODEL_1dc95ab9335342b09522f96af930b58a",
              "IPY_MODEL_547f188794d14f83918003da3ce9e8da"
            ],
            "layout": "IPY_MODEL_40c83012a96f464990932a52578c865b"
          }
        },
        "c1696a12ad2c4ed0a64607ea3e2fe9a4": {
          "model_module": "@jupyter-widgets/controls",
          "model_name": "HTMLModel",
          "model_module_version": "1.5.0",
          "state": {
            "_dom_classes": [],
            "_model_module": "@jupyter-widgets/controls",
            "_model_module_version": "1.5.0",
            "_model_name": "HTMLModel",
            "_view_count": null,
            "_view_module": "@jupyter-widgets/controls",
            "_view_module_version": "1.5.0",
            "_view_name": "HTMLView",
            "description": "",
            "description_tooltip": null,
            "layout": "IPY_MODEL_bce76617c22d4a5cb30e125ef586797c",
            "placeholder": "​",
            "style": "IPY_MODEL_686e46912bbc4c7780e1e5856bf9fa42",
            "value": "Map: 100%"
          }
        },
        "1dc95ab9335342b09522f96af930b58a": {
          "model_module": "@jupyter-widgets/controls",
          "model_name": "FloatProgressModel",
          "model_module_version": "1.5.0",
          "state": {
            "_dom_classes": [],
            "_model_module": "@jupyter-widgets/controls",
            "_model_module_version": "1.5.0",
            "_model_name": "FloatProgressModel",
            "_view_count": null,
            "_view_module": "@jupyter-widgets/controls",
            "_view_module_version": "1.5.0",
            "_view_name": "ProgressView",
            "bar_style": "success",
            "description": "",
            "description_tooltip": null,
            "layout": "IPY_MODEL_5029909471d142e0bf547c3d152cc1db",
            "max": 1471,
            "min": 0,
            "orientation": "horizontal",
            "style": "IPY_MODEL_050d7e459ff4424e9f04938826fc4bd7",
            "value": 1471
          }
        },
        "547f188794d14f83918003da3ce9e8da": {
          "model_module": "@jupyter-widgets/controls",
          "model_name": "HTMLModel",
          "model_module_version": "1.5.0",
          "state": {
            "_dom_classes": [],
            "_model_module": "@jupyter-widgets/controls",
            "_model_module_version": "1.5.0",
            "_model_name": "HTMLModel",
            "_view_count": null,
            "_view_module": "@jupyter-widgets/controls",
            "_view_module_version": "1.5.0",
            "_view_name": "HTMLView",
            "description": "",
            "description_tooltip": null,
            "layout": "IPY_MODEL_8271a9c60b904f209429aac99ca5ee81",
            "placeholder": "​",
            "style": "IPY_MODEL_fbf5eaf1cad641cf80488cc051ee482c",
            "value": " 1471/1471 [00:01&lt;00:00, 1600.71 examples/s]"
          }
        },
        "40c83012a96f464990932a52578c865b": {
          "model_module": "@jupyter-widgets/base",
          "model_name": "LayoutModel",
          "model_module_version": "1.2.0",
          "state": {
            "_model_module": "@jupyter-widgets/base",
            "_model_module_version": "1.2.0",
            "_model_name": "LayoutModel",
            "_view_count": null,
            "_view_module": "@jupyter-widgets/base",
            "_view_module_version": "1.2.0",
            "_view_name": "LayoutView",
            "align_content": null,
            "align_items": null,
            "align_self": null,
            "border": null,
            "bottom": null,
            "display": null,
            "flex": null,
            "flex_flow": null,
            "grid_area": null,
            "grid_auto_columns": null,
            "grid_auto_flow": null,
            "grid_auto_rows": null,
            "grid_column": null,
            "grid_gap": null,
            "grid_row": null,
            "grid_template_areas": null,
            "grid_template_columns": null,
            "grid_template_rows": null,
            "height": null,
            "justify_content": null,
            "justify_items": null,
            "left": null,
            "margin": null,
            "max_height": null,
            "max_width": null,
            "min_height": null,
            "min_width": null,
            "object_fit": null,
            "object_position": null,
            "order": null,
            "overflow": null,
            "overflow_x": null,
            "overflow_y": null,
            "padding": null,
            "right": null,
            "top": null,
            "visibility": null,
            "width": null
          }
        },
        "bce76617c22d4a5cb30e125ef586797c": {
          "model_module": "@jupyter-widgets/base",
          "model_name": "LayoutModel",
          "model_module_version": "1.2.0",
          "state": {
            "_model_module": "@jupyter-widgets/base",
            "_model_module_version": "1.2.0",
            "_model_name": "LayoutModel",
            "_view_count": null,
            "_view_module": "@jupyter-widgets/base",
            "_view_module_version": "1.2.0",
            "_view_name": "LayoutView",
            "align_content": null,
            "align_items": null,
            "align_self": null,
            "border": null,
            "bottom": null,
            "display": null,
            "flex": null,
            "flex_flow": null,
            "grid_area": null,
            "grid_auto_columns": null,
            "grid_auto_flow": null,
            "grid_auto_rows": null,
            "grid_column": null,
            "grid_gap": null,
            "grid_row": null,
            "grid_template_areas": null,
            "grid_template_columns": null,
            "grid_template_rows": null,
            "height": null,
            "justify_content": null,
            "justify_items": null,
            "left": null,
            "margin": null,
            "max_height": null,
            "max_width": null,
            "min_height": null,
            "min_width": null,
            "object_fit": null,
            "object_position": null,
            "order": null,
            "overflow": null,
            "overflow_x": null,
            "overflow_y": null,
            "padding": null,
            "right": null,
            "top": null,
            "visibility": null,
            "width": null
          }
        },
        "686e46912bbc4c7780e1e5856bf9fa42": {
          "model_module": "@jupyter-widgets/controls",
          "model_name": "DescriptionStyleModel",
          "model_module_version": "1.5.0",
          "state": {
            "_model_module": "@jupyter-widgets/controls",
            "_model_module_version": "1.5.0",
            "_model_name": "DescriptionStyleModel",
            "_view_count": null,
            "_view_module": "@jupyter-widgets/base",
            "_view_module_version": "1.2.0",
            "_view_name": "StyleView",
            "description_width": ""
          }
        },
        "5029909471d142e0bf547c3d152cc1db": {
          "model_module": "@jupyter-widgets/base",
          "model_name": "LayoutModel",
          "model_module_version": "1.2.0",
          "state": {
            "_model_module": "@jupyter-widgets/base",
            "_model_module_version": "1.2.0",
            "_model_name": "LayoutModel",
            "_view_count": null,
            "_view_module": "@jupyter-widgets/base",
            "_view_module_version": "1.2.0",
            "_view_name": "LayoutView",
            "align_content": null,
            "align_items": null,
            "align_self": null,
            "border": null,
            "bottom": null,
            "display": null,
            "flex": null,
            "flex_flow": null,
            "grid_area": null,
            "grid_auto_columns": null,
            "grid_auto_flow": null,
            "grid_auto_rows": null,
            "grid_column": null,
            "grid_gap": null,
            "grid_row": null,
            "grid_template_areas": null,
            "grid_template_columns": null,
            "grid_template_rows": null,
            "height": null,
            "justify_content": null,
            "justify_items": null,
            "left": null,
            "margin": null,
            "max_height": null,
            "max_width": null,
            "min_height": null,
            "min_width": null,
            "object_fit": null,
            "object_position": null,
            "order": null,
            "overflow": null,
            "overflow_x": null,
            "overflow_y": null,
            "padding": null,
            "right": null,
            "top": null,
            "visibility": null,
            "width": null
          }
        },
        "050d7e459ff4424e9f04938826fc4bd7": {
          "model_module": "@jupyter-widgets/controls",
          "model_name": "ProgressStyleModel",
          "model_module_version": "1.5.0",
          "state": {
            "_model_module": "@jupyter-widgets/controls",
            "_model_module_version": "1.5.0",
            "_model_name": "ProgressStyleModel",
            "_view_count": null,
            "_view_module": "@jupyter-widgets/base",
            "_view_module_version": "1.2.0",
            "_view_name": "StyleView",
            "bar_color": null,
            "description_width": ""
          }
        },
        "8271a9c60b904f209429aac99ca5ee81": {
          "model_module": "@jupyter-widgets/base",
          "model_name": "LayoutModel",
          "model_module_version": "1.2.0",
          "state": {
            "_model_module": "@jupyter-widgets/base",
            "_model_module_version": "1.2.0",
            "_model_name": "LayoutModel",
            "_view_count": null,
            "_view_module": "@jupyter-widgets/base",
            "_view_module_version": "1.2.0",
            "_view_name": "LayoutView",
            "align_content": null,
            "align_items": null,
            "align_self": null,
            "border": null,
            "bottom": null,
            "display": null,
            "flex": null,
            "flex_flow": null,
            "grid_area": null,
            "grid_auto_columns": null,
            "grid_auto_flow": null,
            "grid_auto_rows": null,
            "grid_column": null,
            "grid_gap": null,
            "grid_row": null,
            "grid_template_areas": null,
            "grid_template_columns": null,
            "grid_template_rows": null,
            "height": null,
            "justify_content": null,
            "justify_items": null,
            "left": null,
            "margin": null,
            "max_height": null,
            "max_width": null,
            "min_height": null,
            "min_width": null,
            "object_fit": null,
            "object_position": null,
            "order": null,
            "overflow": null,
            "overflow_x": null,
            "overflow_y": null,
            "padding": null,
            "right": null,
            "top": null,
            "visibility": null,
            "width": null
          }
        },
        "fbf5eaf1cad641cf80488cc051ee482c": {
          "model_module": "@jupyter-widgets/controls",
          "model_name": "DescriptionStyleModel",
          "model_module_version": "1.5.0",
          "state": {
            "_model_module": "@jupyter-widgets/controls",
            "_model_module_version": "1.5.0",
            "_model_name": "DescriptionStyleModel",
            "_view_count": null,
            "_view_module": "@jupyter-widgets/base",
            "_view_module_version": "1.2.0",
            "_view_name": "StyleView",
            "description_width": ""
          }
        }
      }
    }
  },
  "cells": [
    {
      "cell_type": "code",
      "execution_count": 1,
      "metadata": {
        "colab": {
          "base_uri": "https://localhost:8080/"
        },
        "id": "COMz8sEGe-e_",
        "outputId": "136a5744-8c27-44ab-bec2-5c10f0199d53"
      },
      "outputs": [
        {
          "output_type": "stream",
          "name": "stdout",
          "text": [
            "Requirement already satisfied: transformers==4.38.2 in /usr/local/lib/python3.11/dist-packages (4.38.2)\n",
            "Requirement already satisfied: datasets==2.18.0 in /usr/local/lib/python3.11/dist-packages (2.18.0)\n",
            "Requirement already satisfied: evaluate==0.4.1 in /usr/local/lib/python3.11/dist-packages (0.4.1)\n",
            "Requirement already satisfied: sacrebleu==2.4.2 in /usr/local/lib/python3.11/dist-packages (2.4.2)\n",
            "Requirement already satisfied: tensorflow==2.16.1 in /usr/local/lib/python3.11/dist-packages (2.16.1)\n",
            "Requirement already satisfied: tf-keras==2.16.0 in /usr/local/lib/python3.11/dist-packages (2.16.0)\n",
            "Requirement already satisfied: matplotlib==3.7.1 in /usr/local/lib/python3.11/dist-packages (3.7.1)\n",
            "Requirement already satisfied: filelock in /usr/local/lib/python3.11/dist-packages (from transformers==4.38.2) (3.17.0)\n",
            "Requirement already satisfied: huggingface-hub<1.0,>=0.19.3 in /usr/local/lib/python3.11/dist-packages (from transformers==4.38.2) (0.27.1)\n",
            "Requirement already satisfied: numpy>=1.17 in /usr/local/lib/python3.11/dist-packages (from transformers==4.38.2) (1.26.4)\n",
            "Requirement already satisfied: packaging>=20.0 in /usr/local/lib/python3.11/dist-packages (from transformers==4.38.2) (24.2)\n",
            "Requirement already satisfied: pyyaml>=5.1 in /usr/local/lib/python3.11/dist-packages (from transformers==4.38.2) (6.0.2)\n",
            "Requirement already satisfied: regex!=2019.12.17 in /usr/local/lib/python3.11/dist-packages (from transformers==4.38.2) (2024.11.6)\n",
            "Requirement already satisfied: requests in /usr/local/lib/python3.11/dist-packages (from transformers==4.38.2) (2.32.3)\n",
            "Requirement already satisfied: tokenizers<0.19,>=0.14 in /usr/local/lib/python3.11/dist-packages (from transformers==4.38.2) (0.15.2)\n",
            "Requirement already satisfied: safetensors>=0.4.1 in /usr/local/lib/python3.11/dist-packages (from transformers==4.38.2) (0.5.2)\n",
            "Requirement already satisfied: tqdm>=4.27 in /usr/local/lib/python3.11/dist-packages (from transformers==4.38.2) (4.67.1)\n",
            "Requirement already satisfied: pyarrow>=12.0.0 in /usr/local/lib/python3.11/dist-packages (from datasets==2.18.0) (17.0.0)\n",
            "Requirement already satisfied: pyarrow-hotfix in /usr/local/lib/python3.11/dist-packages (from datasets==2.18.0) (0.6)\n",
            "Requirement already satisfied: dill<0.3.9,>=0.3.0 in /usr/local/lib/python3.11/dist-packages (from datasets==2.18.0) (0.3.8)\n",
            "Requirement already satisfied: pandas in /usr/local/lib/python3.11/dist-packages (from datasets==2.18.0) (2.2.2)\n",
            "Requirement already satisfied: xxhash in /usr/local/lib/python3.11/dist-packages (from datasets==2.18.0) (3.5.0)\n",
            "Requirement already satisfied: multiprocess in /usr/local/lib/python3.11/dist-packages (from datasets==2.18.0) (0.70.16)\n",
            "Requirement already satisfied: fsspec<=2024.2.0,>=2023.1.0 in /usr/local/lib/python3.11/dist-packages (from fsspec[http]<=2024.2.0,>=2023.1.0->datasets==2.18.0) (2024.2.0)\n",
            "Requirement already satisfied: aiohttp in /usr/local/lib/python3.11/dist-packages (from datasets==2.18.0) (3.11.11)\n",
            "Requirement already satisfied: responses<0.19 in /usr/local/lib/python3.11/dist-packages (from evaluate==0.4.1) (0.18.0)\n",
            "Requirement already satisfied: portalocker in /usr/local/lib/python3.11/dist-packages (from sacrebleu==2.4.2) (3.1.1)\n",
            "Requirement already satisfied: tabulate>=0.8.9 in /usr/local/lib/python3.11/dist-packages (from sacrebleu==2.4.2) (0.9.0)\n",
            "Requirement already satisfied: colorama in /usr/local/lib/python3.11/dist-packages (from sacrebleu==2.4.2) (0.4.6)\n",
            "Requirement already satisfied: lxml in /usr/local/lib/python3.11/dist-packages (from sacrebleu==2.4.2) (5.3.0)\n",
            "Requirement already satisfied: absl-py>=1.0.0 in /usr/local/lib/python3.11/dist-packages (from tensorflow==2.16.1) (1.4.0)\n",
            "Requirement already satisfied: astunparse>=1.6.0 in /usr/local/lib/python3.11/dist-packages (from tensorflow==2.16.1) (1.6.3)\n",
            "Requirement already satisfied: flatbuffers>=23.5.26 in /usr/local/lib/python3.11/dist-packages (from tensorflow==2.16.1) (25.1.21)\n",
            "Requirement already satisfied: gast!=0.5.0,!=0.5.1,!=0.5.2,>=0.2.1 in /usr/local/lib/python3.11/dist-packages (from tensorflow==2.16.1) (0.6.0)\n",
            "Requirement already satisfied: google-pasta>=0.1.1 in /usr/local/lib/python3.11/dist-packages (from tensorflow==2.16.1) (0.2.0)\n",
            "Requirement already satisfied: h5py>=3.10.0 in /usr/local/lib/python3.11/dist-packages (from tensorflow==2.16.1) (3.12.1)\n",
            "Requirement already satisfied: libclang>=13.0.0 in /usr/local/lib/python3.11/dist-packages (from tensorflow==2.16.1) (18.1.1)\n",
            "Requirement already satisfied: ml-dtypes~=0.3.1 in /usr/local/lib/python3.11/dist-packages (from tensorflow==2.16.1) (0.3.2)\n",
            "Requirement already satisfied: opt-einsum>=2.3.2 in /usr/local/lib/python3.11/dist-packages (from tensorflow==2.16.1) (3.4.0)\n",
            "Requirement already satisfied: protobuf!=4.21.0,!=4.21.1,!=4.21.2,!=4.21.3,!=4.21.4,!=4.21.5,<5.0.0dev,>=3.20.3 in /usr/local/lib/python3.11/dist-packages (from tensorflow==2.16.1) (4.25.6)\n",
            "Requirement already satisfied: setuptools in /usr/local/lib/python3.11/dist-packages (from tensorflow==2.16.1) (75.1.0)\n",
            "Requirement already satisfied: six>=1.12.0 in /usr/local/lib/python3.11/dist-packages (from tensorflow==2.16.1) (1.17.0)\n",
            "Requirement already satisfied: termcolor>=1.1.0 in /usr/local/lib/python3.11/dist-packages (from tensorflow==2.16.1) (2.5.0)\n",
            "Requirement already satisfied: typing-extensions>=3.6.6 in /usr/local/lib/python3.11/dist-packages (from tensorflow==2.16.1) (4.12.2)\n",
            "Requirement already satisfied: wrapt>=1.11.0 in /usr/local/lib/python3.11/dist-packages (from tensorflow==2.16.1) (1.17.2)\n",
            "Requirement already satisfied: grpcio<2.0,>=1.24.3 in /usr/local/lib/python3.11/dist-packages (from tensorflow==2.16.1) (1.70.0)\n",
            "Requirement already satisfied: tensorboard<2.17,>=2.16 in /usr/local/lib/python3.11/dist-packages (from tensorflow==2.16.1) (2.16.2)\n",
            "Requirement already satisfied: keras>=3.0.0 in /usr/local/lib/python3.11/dist-packages (from tensorflow==2.16.1) (3.5.0)\n",
            "Requirement already satisfied: tensorflow-io-gcs-filesystem>=0.23.1 in /usr/local/lib/python3.11/dist-packages (from tensorflow==2.16.1) (0.37.1)\n",
            "Requirement already satisfied: contourpy>=1.0.1 in /usr/local/lib/python3.11/dist-packages (from matplotlib==3.7.1) (1.3.1)\n",
            "Requirement already satisfied: cycler>=0.10 in /usr/local/lib/python3.11/dist-packages (from matplotlib==3.7.1) (0.12.1)\n",
            "Requirement already satisfied: fonttools>=4.22.0 in /usr/local/lib/python3.11/dist-packages (from matplotlib==3.7.1) (4.55.6)\n",
            "Requirement already satisfied: kiwisolver>=1.0.1 in /usr/local/lib/python3.11/dist-packages (from matplotlib==3.7.1) (1.4.8)\n",
            "Requirement already satisfied: pillow>=6.2.0 in /usr/local/lib/python3.11/dist-packages (from matplotlib==3.7.1) (11.1.0)\n",
            "Requirement already satisfied: pyparsing>=2.3.1 in /usr/local/lib/python3.11/dist-packages (from matplotlib==3.7.1) (3.2.1)\n",
            "Requirement already satisfied: python-dateutil>=2.7 in /usr/local/lib/python3.11/dist-packages (from matplotlib==3.7.1) (2.8.2)\n",
            "Requirement already satisfied: wheel<1.0,>=0.23.0 in /usr/local/lib/python3.11/dist-packages (from astunparse>=1.6.0->tensorflow==2.16.1) (0.45.1)\n",
            "Requirement already satisfied: aiohappyeyeballs>=2.3.0 in /usr/local/lib/python3.11/dist-packages (from aiohttp->datasets==2.18.0) (2.4.4)\n",
            "Requirement already satisfied: aiosignal>=1.1.2 in /usr/local/lib/python3.11/dist-packages (from aiohttp->datasets==2.18.0) (1.3.2)\n",
            "Requirement already satisfied: attrs>=17.3.0 in /usr/local/lib/python3.11/dist-packages (from aiohttp->datasets==2.18.0) (24.3.0)\n",
            "Requirement already satisfied: frozenlist>=1.1.1 in /usr/local/lib/python3.11/dist-packages (from aiohttp->datasets==2.18.0) (1.5.0)\n",
            "Requirement already satisfied: multidict<7.0,>=4.5 in /usr/local/lib/python3.11/dist-packages (from aiohttp->datasets==2.18.0) (6.1.0)\n",
            "Requirement already satisfied: propcache>=0.2.0 in /usr/local/lib/python3.11/dist-packages (from aiohttp->datasets==2.18.0) (0.2.1)\n",
            "Requirement already satisfied: yarl<2.0,>=1.17.0 in /usr/local/lib/python3.11/dist-packages (from aiohttp->datasets==2.18.0) (1.18.3)\n",
            "Requirement already satisfied: rich in /usr/local/lib/python3.11/dist-packages (from keras>=3.0.0->tensorflow==2.16.1) (13.9.4)\n",
            "Requirement already satisfied: namex in /usr/local/lib/python3.11/dist-packages (from keras>=3.0.0->tensorflow==2.16.1) (0.0.8)\n",
            "Requirement already satisfied: optree in /usr/local/lib/python3.11/dist-packages (from keras>=3.0.0->tensorflow==2.16.1) (0.14.0)\n",
            "Requirement already satisfied: charset-normalizer<4,>=2 in /usr/local/lib/python3.11/dist-packages (from requests->transformers==4.38.2) (3.4.1)\n",
            "Requirement already satisfied: idna<4,>=2.5 in /usr/local/lib/python3.11/dist-packages (from requests->transformers==4.38.2) (3.10)\n",
            "Requirement already satisfied: urllib3<3,>=1.21.1 in /usr/local/lib/python3.11/dist-packages (from requests->transformers==4.38.2) (2.3.0)\n",
            "Requirement already satisfied: certifi>=2017.4.17 in /usr/local/lib/python3.11/dist-packages (from requests->transformers==4.38.2) (2024.12.14)\n",
            "Requirement already satisfied: markdown>=2.6.8 in /usr/local/lib/python3.11/dist-packages (from tensorboard<2.17,>=2.16->tensorflow==2.16.1) (3.7)\n",
            "Requirement already satisfied: tensorboard-data-server<0.8.0,>=0.7.0 in /usr/local/lib/python3.11/dist-packages (from tensorboard<2.17,>=2.16->tensorflow==2.16.1) (0.7.2)\n",
            "Requirement already satisfied: werkzeug>=1.0.1 in /usr/local/lib/python3.11/dist-packages (from tensorboard<2.17,>=2.16->tensorflow==2.16.1) (3.1.3)\n",
            "Requirement already satisfied: pytz>=2020.1 in /usr/local/lib/python3.11/dist-packages (from pandas->datasets==2.18.0) (2024.2)\n",
            "Requirement already satisfied: tzdata>=2022.7 in /usr/local/lib/python3.11/dist-packages (from pandas->datasets==2.18.0) (2025.1)\n",
            "Requirement already satisfied: MarkupSafe>=2.1.1 in /usr/local/lib/python3.11/dist-packages (from werkzeug>=1.0.1->tensorboard<2.17,>=2.16->tensorflow==2.16.1) (3.0.2)\n",
            "Requirement already satisfied: markdown-it-py>=2.2.0 in /usr/local/lib/python3.11/dist-packages (from rich->keras>=3.0.0->tensorflow==2.16.1) (3.0.0)\n",
            "Requirement already satisfied: pygments<3.0.0,>=2.13.0 in /usr/local/lib/python3.11/dist-packages (from rich->keras>=3.0.0->tensorflow==2.16.1) (2.18.0)\n",
            "Requirement already satisfied: mdurl~=0.1 in /usr/local/lib/python3.11/dist-packages (from markdown-it-py>=2.2.0->rich->keras>=3.0.0->tensorflow==2.16.1) (0.1.2)\n"
          ]
        }
      ],
      "source": [
        "pip install transformers==4.38.2 datasets==2.18.0 evaluate==0.4.1 sacrebleu==2.4.2 tensorflow==2.16.1 tf-keras==2.16.0 matplotlib==3.7.1"
      ]
    },
    {
      "cell_type": "code",
      "source": [
        "from google.colab import drive\n",
        "drive.mount('/content/gdrive')\n",
        "ROOT_DIR = '/content/gdrive/My Drive/Dataset'"
      ],
      "metadata": {
        "colab": {
          "base_uri": "https://localhost:8080/"
        },
        "id": "u9IZqDuzfECp",
        "outputId": "597c7a0d-633a-4484-b923-6b7532a9f55a"
      },
      "execution_count": 2,
      "outputs": [
        {
          "output_type": "stream",
          "name": "stdout",
          "text": [
            "Drive already mounted at /content/gdrive; to attempt to forcibly remount, call drive.mount(\"/content/gdrive\", force_remount=True).\n"
          ]
        }
      ]
    },
    {
      "cell_type": "code",
      "source": [
        "import re\n",
        "\n",
        "import evaluate\n",
        "import numpy as np\n",
        "import tensorflow as tf\n",
        "import matplotlib.pyplot as plt\n",
        "from datasets import load_dataset, DatasetDict, Translation\n",
        "from transformers.keras_callbacks import PushToHubCallback, KerasMetricCallback\n",
        "from transformers import pipeline, AutoTokenizer, AdamWeightDecay, TFAutoModelForSeq2SeqLM, DataCollatorForSeq2Seq\n",
        "import pandas as pd\n",
        "import datasets as Dataset"
      ],
      "metadata": {
        "id": "tx3HMBPTgnfQ"
      },
      "execution_count": 3,
      "outputs": []
    },
    {
      "cell_type": "code",
      "source": [
        "SRC_LANG = \"dyu\"\n",
        "TRG_LANG = \"fr\"\n",
        "CHARS_TO_REMOVE_REGEX = '[!\"&\\(\\),-./:;=?+.\\n\\[\\]]'\n",
        "PREFIX = \"translate Dyula to French: \" # This command will have to be passed to the model during inference so it knows what to do\n",
        "MODEL_CHECKPOINT = \"t5-small\"\n",
        "HF_REPO_NAME = \"dyu-fr-t5\"\n",
        "LOCAL_SAVE_DIR = \"../saved_model\"\n",
        "TRAIN_EPOCHS = 50"
      ],
      "metadata": {
        "id": "MzOidpo4gu20"
      },
      "execution_count": 4,
      "outputs": []
    },
    {
      "cell_type": "code",
      "source": [
        "train_path = ROOT_DIR + \"/train-00000-of-00001.csv\"\n",
        "val_path = ROOT_DIR + \"/validation-00000-of-00001.csv\""
      ],
      "metadata": {
        "id": "G4ODQzMysIxI"
      },
      "execution_count": 5,
      "outputs": []
    },
    {
      "cell_type": "code",
      "source": [
        "import re\n",
        "import ast\n",
        "from datasets import load_dataset\n",
        "\n",
        "# Define the source and target languages\n",
        "SRC_LANG = \"dyu\"  # example source language\n",
        "TRG_LANG = \"fr\"   # example target language\n",
        "CHARS_TO_REMOVE_REGEX = r\"[^\\w\\s]\"  # regex to remove special characters\n",
        "\n",
        "from datasets import load_dataset, DatasetDict\n",
        "\n",
        "# Load training and test datasets\n",
        "dataset = DatasetDict({\n",
        "    \"train\": load_dataset(\"csv\", data_files = train_path, delimiter=\"|\", index_col=0)[\"train\"],\n",
        "    \"validation\": load_dataset(\"csv\", data_files= val_path, delimiter=\"|\", index_col=0)[\"train\"]\n",
        "})\n",
        "\n",
        "# Remove unnecessary column from both splits\n",
        "dataset = dataset.map(lambda example: {k: v for k, v in example.items() if k != \"__index_level_0__\"})\n",
        "dataset = dataset.remove_columns([\"__index_level_0__\"])\n",
        "\n",
        "\n",
        "# Clean data (lowercase and punctuation)\n",
        "def remove_special_characters(text):\n",
        "    text = re.sub(CHARS_TO_REMOVE_REGEX, \" \", text.lower())\n",
        "    return text.strip()\n",
        "\n",
        "def clean_text(batch):\n",
        "    # Convert the string representation of the dictionary to an actual dictionary\n",
        "    try:\n",
        "        translation = ast.literal_eval(batch[\"translation\"])\n",
        "    except ValueError as e:\n",
        "        print(f\"Error evaluating translation: {e}\")\n",
        "        translation = {}\n",
        "\n",
        "    # Ensure 'translation' is a dictionary and has the right keys\n",
        "    if isinstance(translation, dict):\n",
        "        # Clean source language and target language texts\n",
        "        translation[SRC_LANG] = remove_special_characters(translation.get(SRC_LANG, \"\"))\n",
        "        translation[TRG_LANG] = remove_special_characters(translation.get(TRG_LANG, \"\"))\n",
        "        # Update the batch with cleaned translation\n",
        "        batch[\"translation\"] = translation\n",
        "    else:\n",
        "        print(f\"Warning: 'translation' is not a dictionary for the batch {batch}\")\n",
        "    return batch\n",
        "\n",
        "# Apply the clean_text function to each batch\n",
        "dataset = dataset.map(clean_text)\n",
        "\n",
        "# Inspect the cleaned dataset\n",
        "print(dataset)\n"
      ],
      "metadata": {
        "colab": {
          "base_uri": "https://localhost:8080/"
        },
        "id": "xHVXRjrLrnQU",
        "outputId": "aee11185-c48f-4878-e6ec-67b587aca3d2"
      },
      "execution_count": 6,
      "outputs": [
        {
          "output_type": "stream",
          "name": "stdout",
          "text": [
            "DatasetDict({\n",
            "    train: Dataset({\n",
            "        features: ['ID', 'translation'],\n",
            "        num_rows: 8065\n",
            "    })\n",
            "    validation: Dataset({\n",
            "        features: ['ID', 'translation'],\n",
            "        num_rows: 1471\n",
            "    })\n",
            "})\n"
          ]
        }
      ]
    },
    {
      "cell_type": "code",
      "source": [
        "tokenizer = AutoTokenizer.from_pretrained(MODEL_CHECKPOINT)"
      ],
      "metadata": {
        "colab": {
          "base_uri": "https://localhost:8080/"
        },
        "id": "23Konlult5yh",
        "outputId": "159ace59-0a4b-4d8c-cfd3-238d1c2c2309"
      },
      "execution_count": 7,
      "outputs": [
        {
          "output_type": "stream",
          "name": "stderr",
          "text": [
            "/usr/local/lib/python3.11/dist-packages/huggingface_hub/file_download.py:795: FutureWarning: `resume_download` is deprecated and will be removed in version 1.0.0. Downloads always resume when possible. If you want to force a new download, use `force_download=True`.\n",
            "  warnings.warn(\n",
            "/usr/local/lib/python3.11/dist-packages/huggingface_hub/utils/_auth.py:94: UserWarning: \n",
            "The secret `HF_TOKEN` does not exist in your Colab secrets.\n",
            "To authenticate with the Hugging Face Hub, create a token in your settings tab (https://huggingface.co/settings/tokens), set it as secret in your Google Colab and restart your session.\n",
            "You will be able to reuse this secret in all of your notebooks.\n",
            "Please note that authentication is recommended but still optional to access public models or datasets.\n",
            "  warnings.warn(\n"
          ]
        }
      ]
    },
    {
      "cell_type": "code",
      "source": [
        "def preprocess_function(examples):\n",
        "    inputs = [PREFIX + example[SRC_LANG] for example in examples[\"translation\"]]\n",
        "    targets = [example[TRG_LANG] for example in examples[\"translation\"]]\n",
        "    model_inputs = tokenizer(inputs, text_target=targets, max_length=128, truncation=True)\n",
        "    return model_inputs"
      ],
      "metadata": {
        "id": "uc-vcU2huAqw"
      },
      "execution_count": 8,
      "outputs": []
    },
    {
      "cell_type": "code",
      "source": [
        "tokenized_books = dataset.map(preprocess_function, batched=True)"
      ],
      "metadata": {
        "colab": {
          "base_uri": "https://localhost:8080/",
          "height": 49,
          "referenced_widgets": [
            "459d632bde7b4ca5850d8860bc3c9fc4",
            "c1696a12ad2c4ed0a64607ea3e2fe9a4",
            "1dc95ab9335342b09522f96af930b58a",
            "547f188794d14f83918003da3ce9e8da",
            "40c83012a96f464990932a52578c865b",
            "bce76617c22d4a5cb30e125ef586797c",
            "686e46912bbc4c7780e1e5856bf9fa42",
            "5029909471d142e0bf547c3d152cc1db",
            "050d7e459ff4424e9f04938826fc4bd7",
            "8271a9c60b904f209429aac99ca5ee81",
            "fbf5eaf1cad641cf80488cc051ee482c"
          ]
        },
        "id": "WqX1kghMuD9C",
        "outputId": "67ad4609-58b5-4c05-c0d2-4eabb3fafe7b"
      },
      "execution_count": 9,
      "outputs": [
        {
          "output_type": "display_data",
          "data": {
            "text/plain": [
              "Map:   0%|          | 0/1471 [00:00<?, ? examples/s]"
            ],
            "application/vnd.jupyter.widget-view+json": {
              "version_major": 2,
              "version_minor": 0,
              "model_id": "459d632bde7b4ca5850d8860bc3c9fc4"
            }
          },
          "metadata": {}
        }
      ]
    },
    {
      "cell_type": "code",
      "source": [
        "data_collator = DataCollatorForSeq2Seq(tokenizer=tokenizer, model=MODEL_CHECKPOINT, return_tensors=\"tf\")"
      ],
      "metadata": {
        "id": "NdDtQKxruHWn"
      },
      "execution_count": 10,
      "outputs": []
    },
    {
      "cell_type": "code",
      "source": [
        " metric = evaluate.load(\"sacrebleu\")"
      ],
      "metadata": {
        "id": "InCbhM-NuKQf"
      },
      "execution_count": 11,
      "outputs": []
    },
    {
      "cell_type": "code",
      "source": [
        "def postprocess_text(preds, labels):\n",
        "     preds = [pred.strip() for pred in preds]\n",
        "     labels = [[label.strip()] for label in labels]\n",
        "\n",
        "     return preds, labels\n",
        "\n",
        "def compute_metrics(eval_preds):\n",
        "     preds, labels = eval_preds\n",
        "     if isinstance(preds, tuple):\n",
        "         preds = preds[0]\n",
        "     decoded_preds = tokenizer.batch_decode(preds, skip_special_tokens=True)\n",
        "\n",
        "     labels = np.where(labels != -100, labels, tokenizer.pad_token_id)\n",
        "     decoded_labels = tokenizer.batch_decode(labels, skip_special_tokens=True)\n",
        "     decoded_labels = labels\n",
        "\n",
        "     decoded_preds, decoded_labels = postprocess_text(decoded_preds, decoded_labels)\n",
        "\n",
        "     result = metric.compute(predictions=decoded_preds, references=decoded_labels)\n",
        "     result = {\"bleu\": result[\"score\"]}\n",
        "\n",
        "     prediction_lens = [np.count_nonzero(pred != tokenizer.pad_token_id) for pred in preds]\n",
        "     result[\"gen_len\"] = np.mean(prediction_lens)\n",
        "     result = {k: round(v, 4) for k, v in result.items()}\n",
        "     return result"
      ],
      "metadata": {
        "id": "ydPV_dQ6uNBx"
      },
      "execution_count": 12,
      "outputs": []
    },
    {
      "cell_type": "code",
      "source": [
        "optimizer = AdamWeightDecay(learning_rate=2e-5, weight_decay_rate=0.01)"
      ],
      "metadata": {
        "id": "W5qsvdHwuQrV"
      },
      "execution_count": 13,
      "outputs": []
    },
    {
      "cell_type": "code",
      "source": [
        "model = TFAutoModelForSeq2SeqLM.from_pretrained(MODEL_CHECKPOINT)"
      ],
      "metadata": {
        "colab": {
          "base_uri": "https://localhost:8080/"
        },
        "id": "xjgB7h5SuTWy",
        "outputId": "64bebcdd-644e-4ac2-c67a-7a5319959e3b"
      },
      "execution_count": 14,
      "outputs": [
        {
          "output_type": "stream",
          "name": "stderr",
          "text": [
            "All PyTorch model weights were used when initializing TFT5ForConditionalGeneration.\n",
            "\n",
            "All the weights of TFT5ForConditionalGeneration were initialized from the PyTorch model.\n",
            "If your task is similar to the task the model of the checkpoint was trained on, you can already use TFT5ForConditionalGeneration for predictions without further training.\n"
          ]
        }
      ]
    },
    {
      "cell_type": "code",
      "source": [
        "tf_train_set = model.prepare_tf_dataset(\n",
        "    tokenized_books[\"train\"],\n",
        "    shuffle=True,\n",
        "    batch_size=32,\n",
        "    collate_fn=data_collator,\n",
        ")\n",
        "\n",
        "tf_test_set = model.prepare_tf_dataset(\n",
        "    tokenized_books[\"validation\"],\n",
        "    shuffle=False,\n",
        "    batch_size=32,\n",
        "    collate_fn=data_collator,\n",
        ")"
      ],
      "metadata": {
        "id": "ZWAGssvzuYbs"
      },
      "execution_count": 15,
      "outputs": []
    },
    {
      "cell_type": "code",
      "source": [
        "model.compile(optimizer=optimizer)  # No loss argument!"
      ],
      "metadata": {
        "id": "DW-LQR6xucmA"
      },
      "execution_count": 16,
      "outputs": []
    },
    {
      "cell_type": "code",
      "source": [
        "%%time\n",
        "train_hist = model.fit(\n",
        "  x=tf_train_set,\n",
        " # validation_split = 0.2,\n",
        " validation_data=tf_test_set,\n",
        "  epochs=40,\n",
        ")"
      ],
      "metadata": {
        "colab": {
          "base_uri": "https://localhost:8080/"
        },
        "id": "ePJtuLzVufnA",
        "outputId": "ed1adf11-b697-4d2a-81d7-ecaa19d91d2e"
      },
      "execution_count": 18,
      "outputs": [
        {
          "output_type": "stream",
          "name": "stdout",
          "text": [
            "Epoch 1/40\n"
          ]
        },
        {
          "output_type": "stream",
          "name": "stderr",
          "text": [
            "WARNING:tensorflow:AutoGraph could not transform <function infer_framework at 0x79a9e9ef3240> and will run it as-is.\n",
            "Cause: for/else statement not yet supported\n",
            "To silence this warning, decorate the function with @tf.autograph.experimental.do_not_convert\n"
          ]
        },
        {
          "output_type": "stream",
          "name": "stdout",
          "text": [
            "WARNING: AutoGraph could not transform <function infer_framework at 0x79a9e9ef3240> and will run it as-is.\n",
            "Cause: for/else statement not yet supported\n",
            "To silence this warning, decorate the function with @tf.autograph.experimental.do_not_convert\n",
            "252/252 [==============================] - 174s 334ms/step - loss: 3.9341 - val_loss: 3.4147\n",
            "Epoch 2/40\n",
            "252/252 [==============================] - 62s 244ms/step - loss: 3.6457 - val_loss: 3.2986\n",
            "Epoch 3/40\n",
            "252/252 [==============================] - 63s 249ms/step - loss: 3.5441 - val_loss: 3.2279\n",
            "Epoch 4/40\n",
            "252/252 [==============================] - 63s 249ms/step - loss: 3.4758 - val_loss: 3.1759\n",
            "Epoch 5/40\n",
            "252/252 [==============================] - 63s 249ms/step - loss: 3.4198 - val_loss: 3.1322\n",
            "Epoch 6/40\n",
            "252/252 [==============================] - 64s 254ms/step - loss: 3.3762 - val_loss: 3.1000\n",
            "Epoch 7/40\n",
            "252/252 [==============================] - 64s 255ms/step - loss: 3.3303 - val_loss: 3.0676\n",
            "Epoch 8/40\n",
            "252/252 [==============================] - 64s 255ms/step - loss: 3.2957 - val_loss: 3.0437\n",
            "Epoch 9/40\n",
            "252/252 [==============================] - 64s 253ms/step - loss: 3.2660 - val_loss: 3.0235\n",
            "Epoch 10/40\n",
            "252/252 [==============================] - 62s 247ms/step - loss: 3.2383 - val_loss: 3.0034\n",
            "Epoch 11/40\n",
            "252/252 [==============================] - 64s 255ms/step - loss: 3.2079 - val_loss: 2.9861\n",
            "Epoch 12/40\n",
            "252/252 [==============================] - 64s 255ms/step - loss: 3.1823 - val_loss: 2.9712\n",
            "Epoch 13/40\n",
            "252/252 [==============================] - 62s 246ms/step - loss: 3.1583 - val_loss: 2.9595\n",
            "Epoch 14/40\n",
            "252/252 [==============================] - 63s 251ms/step - loss: 3.1367 - val_loss: 2.9433\n",
            "Epoch 15/40\n",
            "252/252 [==============================] - 64s 253ms/step - loss: 3.1151 - val_loss: 2.9344\n",
            "Epoch 16/40\n",
            "252/252 [==============================] - 65s 256ms/step - loss: 3.0947 - val_loss: 2.9226\n",
            "Epoch 17/40\n",
            "252/252 [==============================] - 63s 252ms/step - loss: 3.0781 - val_loss: 2.9122\n",
            "Epoch 18/40\n",
            "252/252 [==============================] - 63s 249ms/step - loss: 3.0569 - val_loss: 2.9003\n",
            "Epoch 19/40\n",
            "252/252 [==============================] - 62s 248ms/step - loss: 3.0376 - val_loss: 2.8908\n",
            "Epoch 20/40\n",
            "252/252 [==============================] - 64s 255ms/step - loss: 3.0209 - val_loss: 2.8834\n",
            "Epoch 21/40\n",
            "252/252 [==============================] - 63s 250ms/step - loss: 3.0016 - val_loss: 2.8711\n",
            "Epoch 22/40\n",
            "252/252 [==============================] - 63s 249ms/step - loss: 2.9844 - val_loss: 2.8650\n",
            "Epoch 23/40\n",
            "252/252 [==============================] - 64s 255ms/step - loss: 2.9742 - val_loss: 2.8575\n",
            "Epoch 24/40\n",
            "252/252 [==============================] - 63s 250ms/step - loss: 2.9538 - val_loss: 2.8498\n",
            "Epoch 25/40\n",
            "252/252 [==============================] - 62s 246ms/step - loss: 2.9410 - val_loss: 2.8393\n",
            "Epoch 26/40\n",
            "252/252 [==============================] - 62s 247ms/step - loss: 2.9263 - val_loss: 2.8375\n",
            "Epoch 27/40\n",
            "252/252 [==============================] - 64s 254ms/step - loss: 2.9090 - val_loss: 2.8288\n",
            "Epoch 28/40\n",
            "252/252 [==============================] - 63s 249ms/step - loss: 2.8932 - val_loss: 2.8218\n",
            "Epoch 29/40\n",
            "252/252 [==============================] - 63s 251ms/step - loss: 2.8773 - val_loss: 2.8172\n",
            "Epoch 30/40\n",
            "252/252 [==============================] - 64s 254ms/step - loss: 2.8670 - val_loss: 2.8157\n",
            "Epoch 31/40\n",
            "252/252 [==============================] - 63s 251ms/step - loss: 2.8551 - val_loss: 2.8064\n",
            "Epoch 32/40\n",
            "252/252 [==============================] - 62s 246ms/step - loss: 2.8394 - val_loss: 2.8002\n",
            "Epoch 33/40\n",
            "252/252 [==============================] - 64s 255ms/step - loss: 2.8244 - val_loss: 2.7965\n",
            "Epoch 34/40\n",
            "252/252 [==============================] - 64s 254ms/step - loss: 2.8235 - val_loss: 2.7891\n",
            "Epoch 35/40\n",
            "252/252 [==============================] - 64s 254ms/step - loss: 2.8042 - val_loss: 2.7885\n",
            "Epoch 36/40\n",
            "252/252 [==============================] - 64s 254ms/step - loss: 2.7938 - val_loss: 2.7814\n",
            "Epoch 37/40\n",
            "252/252 [==============================] - 61s 243ms/step - loss: 2.7786 - val_loss: 2.7761\n",
            "Epoch 38/40\n",
            "252/252 [==============================] - 64s 254ms/step - loss: 2.7734 - val_loss: 2.7764\n",
            "Epoch 39/40\n",
            "252/252 [==============================] - 61s 243ms/step - loss: 2.7573 - val_loss: 2.7674\n",
            "Epoch 40/40\n",
            "252/252 [==============================] - 63s 249ms/step - loss: 2.7435 - val_loss: 2.7634\n",
            "CPU times: user 34min 41s, sys: 5min 30s, total: 40min 11s\n",
            "Wall time: 50min 47s\n"
          ]
        }
      ]
    },
    {
      "cell_type": "code",
      "source": [
        "plt.figure(figsize=(6,3))\n",
        "plt.plot(train_hist.history[\"loss\"], label=\"Training loss\")\n",
        "plt.plot(train_hist.history[\"val_loss\"], label=\"Validation loss\")\n",
        "plt.title(\"Train and validation loss\")\n",
        "plt.xlabel(\"Epochs\")\n",
        "plt.ylabel(\"Loss\")\n",
        "plt.legend()\n",
        "plt.grid()\n",
        "plt.show()"
      ],
      "metadata": {
        "colab": {
          "base_uri": "https://localhost:8080/",
          "height": 333
        },
        "id": "36fcVO2R-gCe",
        "outputId": "582de1c9-9992-43ad-a884-8e5db53a1806"
      },
      "execution_count": 19,
      "outputs": [
        {
          "output_type": "display_data",
          "data": {
            "text/plain": [
              "<Figure size 600x300 with 1 Axes>"
            ],
            "image/png": "[encoded data removed]"
          },
          "metadata": {}
        }
      ]
    },
    {
      "cell_type": "code",
      "source": [
        "tokenizer.save_pretrained(ROOT_DIR)\n",
        "model.save_pretrained(ROOT_DIR)"
      ],
      "metadata": {
        "id": "5BuL7fHc-tC3"
      },
      "execution_count": 20,
      "outputs": []
    },
    {
      "cell_type": "code",
      "source": [
        "import os\n",
        "MODEL_DIR = os.path.join(ROOT_DIR, \"dyu-fr-model\")\n",
        "\n",
        "# Save tokenizer and model in the specified subfolder\n",
        "tokenizer.save_pretrained(MODEL_DIR)\n",
        "model.save_pretrained(MODEL_DIR)"
      ],
      "metadata": {
        "id": "DTpRpc62_kT2"
      },
      "execution_count": 22,
      "outputs": []
    }
  ]
}